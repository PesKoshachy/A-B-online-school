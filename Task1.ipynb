{
 "cells": [
  {
   "cell_type": "code",
   "execution_count": 1,
   "metadata": {},
   "outputs": [],
   "source": [
    "import pandas as pd\n",
    "import seaborn as sns\n",
    "import matplotlib.pyplot as plt\n",
    "import numpy as np\n",
    "import scipy.stats as ss"
   ]
  },
  {
   "cell_type": "code",
   "execution_count": 2,
   "metadata": {},
   "outputs": [],
   "source": [
    "active_studs = pd.read_csv('Проект_2_active_studs.csv')\n",
    "checks = pd.read_csv('Проект_2_checks.csv', sep = ';')\n",
    "group_add = pd.read_csv('Проект_2_group_add.csv')\n",
    "groups = pd.read_csv('Проект_2_groups.csv', sep = ';')"
   ]
  },
  {
   "cell_type": "code",
   "execution_count": 3,
   "metadata": {},
   "outputs": [],
   "source": [
    "#Для начала объединю таблицу с группами пользователей с дополнительными группами, которые были присланы позже\n",
    "\n",
    "group_final = pd.concat([groups, group_add], ignore_index = True)"
   ]
  },
  {
   "cell_type": "code",
   "execution_count": 4,
   "metadata": {},
   "outputs": [
    {
     "data": {
      "text/plain": [
       "74576"
      ]
     },
     "execution_count": 4,
     "metadata": {},
     "output_type": "execute_result"
    }
   ],
   "source": [
    "group_final.id.nunique()"
   ]
  },
  {
   "cell_type": "code",
   "execution_count": 5,
   "metadata": {},
   "outputs": [
    {
     "data": {
      "text/plain": [
       "74576"
      ]
     },
     "execution_count": 5,
     "metadata": {},
     "output_type": "execute_result"
    }
   ],
   "source": [
    "groups.id.nunique() + group_add.id.nunique()\n",
    "\n",
    "# Дополнительно на всякий случай проверяю, не возникло ли от добавления дубликатов"
   ]
  },
  {
   "cell_type": "code",
   "execution_count": 6,
   "metadata": {},
   "outputs": [],
   "source": [
    "#Отсеиваю тех пользователей, что не проявляли активности в выбранный период\n",
    "\n",
    "active_in_group = active_studs.merge(group_final, how = 'left', left_on = 'student_id', right_on = 'id')"
   ]
  },
  {
   "cell_type": "code",
   "execution_count": 7,
   "metadata": {},
   "outputs": [],
   "source": [
    "#Удаляю ненужный столбец\n",
    "\n",
    "active_in_group = active_in_group.drop('id', axis = 1)"
   ]
  },
  {
   "cell_type": "code",
   "execution_count": 8,
   "metadata": {},
   "outputs": [
    {
     "data": {
      "text/plain": [
       "8341"
      ]
     },
     "execution_count": 8,
     "metadata": {},
     "output_type": "execute_result"
    }
   ],
   "source": [
    "#На всякий случай еще раз провожу проверку, что потерь id не произошло. Число совпало, значит, на данном этапе проблем быть не должно\n",
    "\n",
    "active_studs.student_id.nunique()"
   ]
  },
  {
   "cell_type": "code",
   "execution_count": 14,
   "metadata": {},
   "outputs": [],
   "source": [
    "#Так как для каждого пользователя нам дали общую выручку, а не список операций, то мы можем просто объединить таблицы\n",
    "\n",
    "full_df = active_in_group.merge(checks, on = 'student_id',how = 'left')"
   ]
  },
  {
   "cell_type": "code",
   "execution_count": 9,
   "metadata": {},
   "outputs": [],
   "source": [
    "#Проверяю, есть ли пользователи, которые совершали покупки, но при этом не числяться активными. Таковые имеются, так что сохраняю их в отдельной таблице\n",
    "\n",
    "extra_users = checks[~checks.student_id.isin(active_in_group.student_id)]"
   ]
  },
  {
   "cell_type": "code",
   "execution_count": 10,
   "metadata": {},
   "outputs": [],
   "source": [
    "#Добавляю для новой таблицы данные о группе пользователя и переименовываю столбец\n",
    "\n",
    "extra_users = extra_users.merge(group_final, how = 'left', left_on = 'student_id', right_on = 'id')"
   ]
  },
  {
   "cell_type": "code",
   "execution_count": 13,
   "metadata": {},
   "outputs": [],
   "source": [
    "#Удаляю ненужный столбец\n",
    "\n",
    "extra_users = extra_users.drop('id', axis = 1)"
   ]
  },
  {
   "cell_type": "code",
   "execution_count": 15,
   "metadata": {},
   "outputs": [],
   "source": [
    "#Объединяю таблицы для получения полных данных\n",
    "\n",
    "full_df = pd.concat([full_df, extra_users], ignore_index = True)"
   ]
  },
  {
   "cell_type": "code",
   "execution_count": 16,
   "metadata": {},
   "outputs": [],
   "source": [
    "#Заменяю NaN на 0, так как для рассчетов мне это будет более удобно\n",
    "\n",
    "full_df.rev = full_df.rev.fillna(0)"
   ]
  },
  {
   "cell_type": "code",
   "execution_count": 36,
   "metadata": {},
   "outputs": [
    {
     "data": {
      "text/html": [
       "<div>\n",
       "<style scoped>\n",
       "    .dataframe tbody tr th:only-of-type {\n",
       "        vertical-align: middle;\n",
       "    }\n",
       "\n",
       "    .dataframe tbody tr th {\n",
       "        vertical-align: top;\n",
       "    }\n",
       "\n",
       "    .dataframe thead th {\n",
       "        text-align: right;\n",
       "    }\n",
       "</style>\n",
       "<table border=\"1\" class=\"dataframe\">\n",
       "  <thead>\n",
       "    <tr style=\"text-align: right;\">\n",
       "      <th></th>\n",
       "      <th>student_id</th>\n",
       "      <th>grp</th>\n",
       "      <th>rev</th>\n",
       "      <th>customer</th>\n",
       "    </tr>\n",
       "  </thead>\n",
       "  <tbody>\n",
       "    <tr>\n",
       "      <th>0</th>\n",
       "      <td>581585</td>\n",
       "      <td>A</td>\n",
       "      <td>0.0</td>\n",
       "      <td>0</td>\n",
       "    </tr>\n",
       "    <tr>\n",
       "      <th>1</th>\n",
       "      <td>5723133</td>\n",
       "      <td>A</td>\n",
       "      <td>0.0</td>\n",
       "      <td>0</td>\n",
       "    </tr>\n",
       "    <tr>\n",
       "      <th>2</th>\n",
       "      <td>3276743</td>\n",
       "      <td>B</td>\n",
       "      <td>0.0</td>\n",
       "      <td>0</td>\n",
       "    </tr>\n",
       "    <tr>\n",
       "      <th>3</th>\n",
       "      <td>4238589</td>\n",
       "      <td>A</td>\n",
       "      <td>0.0</td>\n",
       "      <td>0</td>\n",
       "    </tr>\n",
       "    <tr>\n",
       "      <th>4</th>\n",
       "      <td>4475369</td>\n",
       "      <td>B</td>\n",
       "      <td>0.0</td>\n",
       "      <td>0</td>\n",
       "    </tr>\n",
       "    <tr>\n",
       "      <th>...</th>\n",
       "      <td>...</td>\n",
       "      <td>...</td>\n",
       "      <td>...</td>\n",
       "      <td>...</td>\n",
       "    </tr>\n",
       "    <tr>\n",
       "      <th>8485</th>\n",
       "      <td>5291900</td>\n",
       "      <td>B</td>\n",
       "      <td>199.0</td>\n",
       "      <td>1</td>\n",
       "    </tr>\n",
       "    <tr>\n",
       "      <th>8486</th>\n",
       "      <td>5331842</td>\n",
       "      <td>B</td>\n",
       "      <td>290.0</td>\n",
       "      <td>1</td>\n",
       "    </tr>\n",
       "    <tr>\n",
       "      <th>8487</th>\n",
       "      <td>5486319</td>\n",
       "      <td>B</td>\n",
       "      <td>199.0</td>\n",
       "      <td>1</td>\n",
       "    </tr>\n",
       "    <tr>\n",
       "      <th>8488</th>\n",
       "      <td>5562806</td>\n",
       "      <td>B</td>\n",
       "      <td>398.0</td>\n",
       "      <td>1</td>\n",
       "    </tr>\n",
       "    <tr>\n",
       "      <th>8489</th>\n",
       "      <td>5599663</td>\n",
       "      <td>B</td>\n",
       "      <td>1900.0</td>\n",
       "      <td>1</td>\n",
       "    </tr>\n",
       "  </tbody>\n",
       "</table>\n",
       "<p>8490 rows × 4 columns</p>\n",
       "</div>"
      ],
      "text/plain": [
       "      student_id grp     rev  customer\n",
       "0         581585   A     0.0         0\n",
       "1        5723133   A     0.0         0\n",
       "2        3276743   B     0.0         0\n",
       "3        4238589   A     0.0         0\n",
       "4        4475369   B     0.0         0\n",
       "...          ...  ..     ...       ...\n",
       "8485     5291900   B   199.0         1\n",
       "8486     5331842   B   290.0         1\n",
       "8487     5486319   B   199.0         1\n",
       "8488     5562806   B   398.0         1\n",
       "8489     5599663   B  1900.0         1\n",
       "\n",
       "[8490 rows x 4 columns]"
      ]
     },
     "execution_count": 36,
     "metadata": {},
     "output_type": "execute_result"
    }
   ],
   "source": [
    "full_df"
   ]
  },
  {
   "cell_type": "markdown",
   "metadata": {},
   "source": [
    "# Анализ 1. Сравнение среднего чека у контрольной и тестовой групп (ARPPU)"
   ]
  },
  {
   "cell_type": "markdown",
   "metadata": {},
   "source": [
    "В случае, если будет обнаружено статистически значимое увеличение среднего чека, то обновление может иметь смысл произвести."
   ]
  },
  {
   "cell_type": "code",
   "execution_count": 18,
   "metadata": {},
   "outputs": [],
   "source": [
    "#Для начала оставлю только тех пользователей, что совершали покупки, дабы проанализировать средний чек у тех, что что-либо купил\n",
    "\n",
    "full_df_cust = full_df.query('rev > 0')"
   ]
  },
  {
   "cell_type": "code",
   "execution_count": 73,
   "metadata": {},
   "outputs": [
    {
     "data": {
      "text/plain": [
       "Text(0, 0.5, 'Число людей \\n')"
      ]
     },
     "execution_count": 73,
     "metadata": {},
     "output_type": "execute_result"
    },
    {
     "data": {
      "image/png": "[encoded data removed]",
      "text/plain": [
       "<Figure size 1152x648 with 1 Axes>"
      ]
     },
     "metadata": {
      "needs_background": "light"
     },
     "output_type": "display_data"
    }
   ],
   "source": [
    "#Проверю распределение на нормальность\n",
    "\n",
    "plt.figure(figsize = (16,9))\n",
    "\n",
    "sns.histplot(data = full_df_cust.query('grp == \"A\"'), x = 'rev')\n",
    "\n",
    "plt.title('Контрольная группа (ARPPU)\\n', size = 20)\n",
    "plt.xlabel('Средний чек', size = 15)\n",
    "plt.ylabel('Число людей \\n', size = 15)"
   ]
  },
  {
   "cell_type": "code",
   "execution_count": 74,
   "metadata": {},
   "outputs": [
    {
     "data": {
      "text/plain": [
       "Text(0, 0.5, 'Число людей \\n')"
      ]
     },
     "execution_count": 74,
     "metadata": {},
     "output_type": "execute_result"
    },
    {
     "data": {
      "image/png": "[encoded data removed]",
      "text/plain": [
       "<Figure size 1152x648 with 1 Axes>"
      ]
     },
     "metadata": {
      "needs_background": "light"
     },
     "output_type": "display_data"
    }
   ],
   "source": [
    "plt.figure(figsize = (16,9))\n",
    "\n",
    "sns.histplot(data = full_df_cust.query('grp == \"B\"'), x = 'rev')\n",
    "\n",
    "plt.title('Тестовая группа (ARPPU)\\n', size = 20)\n",
    "plt.xlabel('Средний чек', size = 15)\n",
    "plt.ylabel('Число людей \\n', size = 15)"
   ]
  },
  {
   "cell_type": "code",
   "execution_count": 23,
   "metadata": {},
   "outputs": [],
   "source": [
    "#Проверяю равенство дисперсий\n",
    "\n",
    "stat, p_value = ss.levene(full_df_cust.query('grp == \"A\"').rev, full_df_cust.query('grp == \"B\"').rev)"
   ]
  },
  {
   "cell_type": "code",
   "execution_count": 24,
   "metadata": {},
   "outputs": [
    {
     "name": "stdout",
     "output_type": "stream",
     "text": [
      "Отвергаем нулевую гипотезу: дисперсии не равны.\n"
     ]
    }
   ],
   "source": [
    "alpha = 0.05\n",
    "if p_value < alpha:\n",
    "    print(\"Отвергаем нулевую гипотезу: дисперсии не равны.\")\n",
    "else:\n",
    "    print(\"Не отвергаем нулевую гипотезу: дисперсии равны.\")"
   ]
  },
  {
   "cell_type": "markdown",
   "metadata": {},
   "source": [
    "Распределения, что логично, строго не нормальны, а дисперсии не равны. В таком случае не получится проверять разницу среднего, а необходимо сравнить медианы\n",
    "\n",
    "***Нулевая гипотеза***: медиана в контрольной и тестовой группе не отличаются друг от друга"
   ]
  },
  {
   "cell_type": "code",
   "execution_count": 25,
   "metadata": {},
   "outputs": [
    {
     "name": "stdout",
     "output_type": "stream",
     "text": [
      "Среднее значение чека в контрольной группе - 690.0, в тестовой - 935.0\n"
     ]
    }
   ],
   "source": [
    "#Проверяю наличие различий в медиане\n",
    "\n",
    "control_mean = full_df_cust.query('grp == \"A\"').rev.median()\n",
    "test_mean = full_df_cust.query('grp == \"B\"').rev.median()\n",
    "\n",
    "print(f'Медианное значение чека в контрольной группе - {control_mean}, в тестовой - {test_mean}')"
   ]
  },
  {
   "cell_type": "markdown",
   "metadata": {},
   "source": [
    "Наблюдается сильное различие в размере среднего чека. Осталось подтвердить (или опровергнуть) статистическую значимость этих значений"
   ]
  },
  {
   "cell_type": "code",
   "execution_count": 26,
   "metadata": {},
   "outputs": [],
   "source": [
    "stat, p = ss.mannwhitneyu(full_df_cust.query('grp == \"A\"').rev, full_df_cust.query('grp == \"B\"').rev)"
   ]
  },
  {
   "cell_type": "code",
   "execution_count": 28,
   "metadata": {},
   "outputs": [
    {
     "name": "stdout",
     "output_type": "stream",
     "text": [
      "Различия медиан статистически значимы\n"
     ]
    }
   ],
   "source": [
    "#Интерпертирую результаты\n",
    "\n",
    "alpha = 0.05\n",
    "if p < alpha:\n",
    "    print('Различия медиан статистически значимы')\n",
    "else:\n",
    "    print('Различия медиан статистически не значимы') "
   ]
  },
  {
   "cell_type": "markdown",
   "metadata": {},
   "source": [
    "Таким образом, по критерию величины среднего чека было выявлено статистически значимое увеличение, что может подтвердить целесообразность нововведения"
   ]
  },
  {
   "cell_type": "markdown",
   "metadata": {},
   "source": [
    "# Анализ 2. Доля пользователей, совершивших покупки"
   ]
  },
  {
   "cell_type": "markdown",
   "metadata": {},
   "source": [
    "Имеет основания полагать, что при усовершенствованной системе оплаты товаров будет гораздо чаще производиться конвертация из посетителя в покупателя. Проверим эту гипотезу"
   ]
  },
  {
   "cell_type": "code",
   "execution_count": 29,
   "metadata": {},
   "outputs": [],
   "source": [
    "#Добавим к изначальной таблице столбец \"покупатель\", где 1 - потратил какую-то часть денег, 2 - не потратил ничего\n",
    "\n",
    "full_df['customer'] = full_df.rev.apply(lambda x: 1 if x > 0 else 0)"
   ]
  },
  {
   "cell_type": "code",
   "execution_count": 30,
   "metadata": {},
   "outputs": [
    {
     "data": {
      "text/html": [
       "<div>\n",
       "<style scoped>\n",
       "    .dataframe tbody tr th:only-of-type {\n",
       "        vertical-align: middle;\n",
       "    }\n",
       "\n",
       "    .dataframe tbody tr th {\n",
       "        vertical-align: top;\n",
       "    }\n",
       "\n",
       "    .dataframe thead th {\n",
       "        text-align: right;\n",
       "    }\n",
       "</style>\n",
       "<table border=\"1\" class=\"dataframe\">\n",
       "  <thead>\n",
       "    <tr style=\"text-align: right;\">\n",
       "      <th>grp</th>\n",
       "      <th>A</th>\n",
       "      <th>B</th>\n",
       "    </tr>\n",
       "    <tr>\n",
       "      <th>customer</th>\n",
       "      <th></th>\n",
       "      <th></th>\n",
       "    </tr>\n",
       "  </thead>\n",
       "  <tbody>\n",
       "    <tr>\n",
       "      <th>0</th>\n",
       "      <td>1460</td>\n",
       "      <td>6489</td>\n",
       "    </tr>\n",
       "    <tr>\n",
       "      <th>1</th>\n",
       "      <td>107</td>\n",
       "      <td>434</td>\n",
       "    </tr>\n",
       "  </tbody>\n",
       "</table>\n",
       "</div>"
      ],
      "text/plain": [
       "grp          A     B\n",
       "customer            \n",
       "0         1460  6489\n",
       "1          107   434"
      ]
     },
     "execution_count": 30,
     "metadata": {},
     "output_type": "execute_result"
    }
   ],
   "source": [
    "#Так как здесь используется 2 категориальные переменные, использую критерий Хи-квадрат. Создаю кросстаб\n",
    "\n",
    "pd.crosstab(full_df.customer, full_df.grp)"
   ]
  },
  {
   "cell_type": "code",
   "execution_count": 31,
   "metadata": {},
   "outputs": [
    {
     "data": {
      "text/plain": [
       "<matplotlib.axes._subplots.AxesSubplot at 0x7f4b7872d358>"
      ]
     },
     "execution_count": 31,
     "metadata": {},
     "output_type": "execute_result"
    },
    {
     "data": {
      "image/png": "[encoded data removed]",
      "text/plain": [
       "<Figure size 1152x648 with 1 Axes>"
      ]
     },
     "metadata": {
      "needs_background": "light"
     },
     "output_type": "display_data"
    }
   ],
   "source": [
    "plt.figure(figsize = (16,9))\n",
    "\n",
    "sns.histplot(data = full_df, x = 'customer', hue = 'grp', multiple = 'stack', bins = 3)"
   ]
  },
  {
   "cell_type": "code",
   "execution_count": 32,
   "metadata": {},
   "outputs": [
    {
     "name": "stdout",
     "output_type": "stream",
     "text": [
      "Доля отмененных заказов в контрольной группе - 6.828334396936822%, в тестовой - 6.268958543983821%\n"
     ]
    }
   ],
   "source": [
    "cancel_control = full_df.query('customer == 1 & grp == \"A\"').student_id.count() / full_df.query('grp == \"A\"').student_id.count() * 100\n",
    "cancel_test = full_df.query('customer == 1 & grp == \"B\"').student_id.count() / full_df.query('grp == \"B\"').student_id.count() * 100\n",
    "\n",
    "print(f'Доля отмененных заказов в контрольной группе - {cancel_control}%, в тестовой - {cancel_test}%')"
   ]
  },
  {
   "cell_type": "markdown",
   "metadata": {},
   "source": [
    "Видим снижение конверсии пользователя в покупателя. Проверим, является ли оно статистически значимым"
   ]
  },
  {
   "cell_type": "code",
   "execution_count": 33,
   "metadata": {},
   "outputs": [],
   "source": [
    "stat, prob, dof, expected = ss.chi2_contingency(pd.crosstab(full_df.customer, full_df.grp))"
   ]
  },
  {
   "cell_type": "code",
   "execution_count": 34,
   "metadata": {},
   "outputs": [
    {
     "name": "stdout",
     "output_type": "stream",
     "text": [
      "Взаимосвязь статистически не значима\n"
     ]
    }
   ],
   "source": [
    "#Интерпретация результатов\n",
    "\n",
    "if prob <= alpha:\n",
    "    print('Взаимосвязь статистически значима')\n",
    "else:\n",
    "    print('Взаимосвязь статистически не значима')"
   ]
  },
  {
   "cell_type": "markdown",
   "metadata": {},
   "source": [
    "Статистическая значимость снижения конверсии не была обнаружена, следовательно, мы не может отвергать нулевую гипотезу"
   ]
  },
  {
   "cell_type": "markdown",
   "metadata": {},
   "source": [
    "# Анализ 3. Суммарная выручка, суммарное число покупателей, ARPPU, ARPU"
   ]
  },
  {
   "cell_type": "markdown",
   "metadata": {},
   "source": [
    "Создадим сводную таблицу, где будет наглядна видна разница во всех приведенных показателях (а также тех, что мы поверяли на прошлых этапах)"
   ]
  },
  {
   "cell_type": "code",
   "execution_count": 65,
   "metadata": {},
   "outputs": [],
   "source": [
    "summary_table = full_df.groupby('grp').agg(\n",
    "    Total_Revenue=('rev', 'sum'),  # Суммарная выручка\n",
    "    Total_Customers=('customer', 'sum'),  # Сумма покупателей\n",
    "    Total_Users=('student_id', 'count')  # Общее количество пользователей\n",
    ").reset_index()"
   ]
  },
  {
   "cell_type": "code",
   "execution_count": 66,
   "metadata": {},
   "outputs": [
    {
     "data": {
      "text/html": [
       "<div>\n",
       "<style scoped>\n",
       "    .dataframe tbody tr th:only-of-type {\n",
       "        vertical-align: middle;\n",
       "    }\n",
       "\n",
       "    .dataframe tbody tr th {\n",
       "        vertical-align: top;\n",
       "    }\n",
       "\n",
       "    .dataframe thead th {\n",
       "        text-align: right;\n",
       "    }\n",
       "</style>\n",
       "<table border=\"1\" class=\"dataframe\">\n",
       "  <thead>\n",
       "    <tr style=\"text-align: right;\">\n",
       "      <th></th>\n",
       "      <th>grp</th>\n",
       "      <th>Total_Revenue</th>\n",
       "      <th>Total_Customers</th>\n",
       "      <th>Total_Users</th>\n",
       "    </tr>\n",
       "  </thead>\n",
       "  <tbody>\n",
       "    <tr>\n",
       "      <th>0</th>\n",
       "      <td>A</td>\n",
       "      <td>92096.0000</td>\n",
       "      <td>107</td>\n",
       "      <td>1567</td>\n",
       "    </tr>\n",
       "    <tr>\n",
       "      <th>1</th>\n",
       "      <td>B</td>\n",
       "      <td>481230.0036</td>\n",
       "      <td>434</td>\n",
       "      <td>6923</td>\n",
       "    </tr>\n",
       "  </tbody>\n",
       "</table>\n",
       "</div>"
      ],
      "text/plain": [
       "  grp  Total_Revenue  Total_Customers  Total_Users\n",
       "0   A     92096.0000              107         1567\n",
       "1   B    481230.0036              434         6923"
      ]
     },
     "execution_count": 66,
     "metadata": {},
     "output_type": "execute_result"
    }
   ],
   "source": [
    "summary_table"
   ]
  },
  {
   "cell_type": "code",
   "execution_count": 69,
   "metadata": {},
   "outputs": [],
   "source": [
    "summary_table['CR'] = (summary_table['Total_Customers'] / summary_table['Total_Users']) * 100\n",
    "summary_table['ARPU'] = summary_table['Total_Revenue'] / summary_table['Total_Users']\n",
    "summary_table['ARPPU'] = summary_table.apply(\n",
    "    lambda row: row['Total_Revenue'] / row['Total_Customers'] if row['Total_Customers'] > 0 else 0,\n",
    "    axis=1\n",
    ")"
   ]
  },
  {
   "cell_type": "code",
   "execution_count": 72,
   "metadata": {},
   "outputs": [
    {
     "data": {
      "text/html": [
       "<div>\n",
       "<style scoped>\n",
       "    .dataframe tbody tr th:only-of-type {\n",
       "        vertical-align: middle;\n",
       "    }\n",
       "\n",
       "    .dataframe tbody tr th {\n",
       "        vertical-align: top;\n",
       "    }\n",
       "\n",
       "    .dataframe thead th {\n",
       "        text-align: right;\n",
       "    }\n",
       "</style>\n",
       "<table border=\"1\" class=\"dataframe\">\n",
       "  <thead>\n",
       "    <tr style=\"text-align: right;\">\n",
       "      <th></th>\n",
       "      <th>grp</th>\n",
       "      <th>Total_Revenue</th>\n",
       "      <th>Total_Customers</th>\n",
       "      <th>Total_Users</th>\n",
       "      <th>ARPU</th>\n",
       "      <th>ARPPU</th>\n",
       "      <th>CR</th>\n",
       "    </tr>\n",
       "  </thead>\n",
       "  <tbody>\n",
       "    <tr>\n",
       "      <th>0</th>\n",
       "      <td>A</td>\n",
       "      <td>92096.0000</td>\n",
       "      <td>107</td>\n",
       "      <td>1567</td>\n",
       "      <td>58.772176</td>\n",
       "      <td>860.710280</td>\n",
       "      <td>6.828334</td>\n",
       "    </tr>\n",
       "    <tr>\n",
       "      <th>1</th>\n",
       "      <td>B</td>\n",
       "      <td>481230.0036</td>\n",
       "      <td>434</td>\n",
       "      <td>6923</td>\n",
       "      <td>69.511773</td>\n",
       "      <td>1108.824893</td>\n",
       "      <td>6.268959</td>\n",
       "    </tr>\n",
       "  </tbody>\n",
       "</table>\n",
       "</div>"
      ],
      "text/plain": [
       "  grp  Total_Revenue  Total_Customers  Total_Users       ARPU        ARPPU  \\\n",
       "0   A     92096.0000              107         1567  58.772176   860.710280   \n",
       "1   B    481230.0036              434         6923  69.511773  1108.824893   \n",
       "\n",
       "         CR  \n",
       "0  6.828334  \n",
       "1  6.268959  "
      ]
     },
     "execution_count": 72,
     "metadata": {},
     "output_type": "execute_result"
    }
   ],
   "source": [
    "summary_table"
   ]
  },
  {
   "cell_type": "markdown",
   "metadata": {},
   "source": [
    "***"
   ]
  },
  {
   "cell_type": "markdown",
   "metadata": {},
   "source": [
    "#### По итогам анализа всех метрик видим повышение ARPU и ARPUU, статистически значимое повышение медианы чека и статистически не значимое понижение CR. Таким образом можно заключить целесообразность внедрения обновления"
   ]
  },
  {
   "cell_type": "code",
   "execution_count": null,
   "metadata": {},
   "outputs": [],
   "source": []
  }
 ],
 "metadata": {
  "kernelspec": {
   "display_name": "Python 3",
   "language": "python",
   "name": "python3"
  },
  "language_info": {
   "codemirror_mode": {
    "name": "ipython",
    "version": 3
   },
   "file_extension": ".py",
   "mimetype": "text/x-python",
   "name": "python",
   "nbconvert_exporter": "python",
   "pygments_lexer": "ipython3",
   "version": "3.7.3"
  }
 },
 "nbformat": 4,
 "nbformat_minor": 4
}
